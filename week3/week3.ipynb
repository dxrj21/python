{
 "cells": [
  {
   "cell_type": "code",
   "execution_count": 4,
   "id": "d8951ebc",
   "metadata": {},
   "outputs": [
    {
     "name": "stdout",
     "output_type": "stream",
     "text": [
      "<class 'str'>\n"
     ]
    }
   ],
   "source": [
    "a = \"hello world\"\n",
    "b = 20\n",
    "c = 3.14\n",
    "d = 1j\n",
    "e = [\"apple\", \"banana\", \"cherry\"]\n",
    "c = (\"apple\", \"banana\", \"cherry\")\n",
    "f = range(6)\n",
    "g = {\"name\": \"john\", \"age\": 36}\n",
    "h = {\"apple\", \"banana\", \"cherry\"}\n",
    "i = frozenset({\"apple\", \"banana\", \"cherry\"})\n",
    "J = True\n",
    "k = b\"hello\"\n",
    "l = bytearray(5)\n",
    "m =memoryview(bytes(5))\n",
    "n = None\n",
    "\n",
    "print(type(a))"
   ]
  }
 ],
 "metadata": {
  "kernelspec": {
   "display_name": "Python 3",
   "language": "python",
   "name": "python3"
  },
  "language_info": {
   "codemirror_mode": {
    "name": "ipython",
    "version": 3
   },
   "file_extension": ".py",
   "mimetype": "text/x-python",
   "name": "python",
   "nbconvert_exporter": "python",
   "pygments_lexer": "ipython3",
   "version": "3.12.4"
  }
 },
 "nbformat": 4,
 "nbformat_minor": 5
}
